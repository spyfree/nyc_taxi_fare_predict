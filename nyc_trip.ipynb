{
 "cells": [
  {
   "cell_type": "code",
   "execution_count": 1,
   "metadata": {},
   "outputs": [],
   "source": [
    "import os\n",
    "import boto3\n",
    "import re\n",
    "import sagemaker\n",
    "import random\n",
    "\n",
    "role = sagemaker.get_execution_role()\n",
    "region = boto3.Session().region_name\n",
    "\n",
    "bucket = sagemaker.Session().default_bucket()"
   ]
  },
  {
   "cell_type": "code",
   "execution_count": 2,
   "metadata": {},
   "outputs": [],
   "source": [
    "prefix = 'sagemaker/xgboost-nyc-trip'\n",
    "# customize to your bucket where you have stored the data\n",
    "bucket_path = 'https://s3-{}.amazonaws.com/{}'.format(region, bucket)"
   ]
  },
  {
   "cell_type": "code",
   "execution_count": 3,
   "metadata": {},
   "outputs": [
    {
     "name": "stdout",
     "output_type": "stream",
     "text": [
      "\"day_of_week\",\"day_of_year\",\"pickup_date\",\"hour\",\"minute\",\"trip_count\",\"trip_duration_min\",\"passenger_count\",\"trip_distance\",\"pickup_locationid\",\"pickup_zone\",\"pickup_borough\",\"total_amount\",\"fare_amount\",\"is_fog\",\"is_rain\",\"is_snow\",\"tmax\",\"tmin\",\"prcp\"\n",
      "\"7\",\"181\",\"2019-06-30\",\"18\",\"10\",\"1\",\"19.95\",\"1\",\"5.3\",\"232\",\"\"\"Two Bridges/Seward Park\"\"\",\"\"\"Manhattan\"\"\",\"26.75\",\"19.0\",\"0\",\"0\",\"0\",\"85\",\"71\",\"0.02\"\n",
      "\"1\",\"14\",\"2019-01-14\",\"0\",\"30\",\"2\",\"12.033333333333333\",\"3\",\"3.89\",\"209\",\"\"\"Seaport\"\"\",\"\"\"Manhattan\"\"\",\"19.6\",\"16.0\",\"0\",\"0\",\"0\",\"35\",\"22\",\"0.0\"\n",
      "\"1\",\"14\",\"2019-01-14\",\"3\",\"0\",\"1\",\"5.7\",\"1\",\"1.35\",\"88\",\"\"\"Financial District South\"\"\",\"\"\"Manhattan\"\"\",\"8.3\",\"7.0\",\"0\",\"0\",\"0\",\"35\",\"22\",\"0.0\"\n",
      "\"1\",\"14\",\"2019-01-14\",\"3\",\"30\",\"1\",\"3.4833333333333334\",\"1\",\"0.69\",\"80\",\"\"\"East Williamsburg\"\"\",\"\"\"Brooklyn\"\"\",\"5.8\",\"4.5\",\"0\",\"0\",\"0\",\"35\",\"22\",\"0.0\"\n",
      "\"1\",\"14\",\"2019-01-14\",\"4\",\"20\",\"1\",\"15.85\",\"1\",\"9.0\",\"236\",\"\"\"Upper East Side North\"\"\",\"\"\"Manhattan\"\"\",\"39.06\",\"25.5\",\"0\",\"0\",\"0\",\"35\",\"22\",\"0.0\"\n",
      "\"5\",\"193\",\n"
     ]
    }
   ],
   "source": [
    "s3_client = boto3.client('s3')\n",
    "Bytes_range = \"bytes=0-1000\"\n",
    "\n",
    "src_bucket = 'trip-ny-test'\n",
    "file_key = 'train/3cb0ea6a-4525-470f-b385-a949d77c047f.csv'\n",
    "\n",
    "response = s3_client.get_object(Bucket=src_bucket,Key=file_key, Range=Bytes_range)\n",
    "contents = response['Body'].read().decode('utf-8') \n",
    "print(contents)"
   ]
  },
  {
   "cell_type": "code",
   "execution_count": 4,
   "metadata": {},
   "outputs": [],
   "source": [
    "import pandas as pd\n",
    "s3_path = \"s3://\" + src_bucket + \"/\" + file_key"
   ]
  },
  {
   "cell_type": "code",
   "execution_count": 5,
   "metadata": {},
   "outputs": [
    {
     "name": "stdout",
     "output_type": "stream",
     "text": [
      "s3://trip-ny-test/train/3cb0ea6a-4525-470f-b385-a949d77c047f.csv\n"
     ]
    }
   ],
   "source": [
    "print(s3_path)"
   ]
  },
  {
   "cell_type": "code",
   "execution_count": 8,
   "metadata": {},
   "outputs": [],
   "source": [
    "df_all = pd.read_csv(s3_path, header=0 )"
   ]
  },
  {
   "cell_type": "code",
   "execution_count": 7,
   "metadata": {},
   "outputs": [
    {
     "name": "stdout",
     "output_type": "stream",
     "text": [
      "Collecting s3fs\n",
      "  Using cached s3fs-0.4.2-py3-none-any.whl (19 kB)\n",
      "Requirement already satisfied: botocore>=1.12.91 in /opt/conda/lib/python3.7/site-packages (from s3fs) (1.16.16)\n",
      "Requirement already satisfied: fsspec>=0.6.0 in /opt/conda/lib/python3.7/site-packages (from s3fs) (0.6.2)\n",
      "Requirement already satisfied: docutils<0.16,>=0.10 in /opt/conda/lib/python3.7/site-packages (from botocore>=1.12.91->s3fs) (0.15.2)\n",
      "Requirement already satisfied: urllib3<1.26,>=1.20; python_version != \"3.4\" in /opt/conda/lib/python3.7/site-packages (from botocore>=1.12.91->s3fs) (1.25.8)\n",
      "Requirement already satisfied: python-dateutil<3.0.0,>=2.1 in /opt/conda/lib/python3.7/site-packages (from botocore>=1.12.91->s3fs) (2.8.1)\n",
      "Requirement already satisfied: jmespath<1.0.0,>=0.7.1 in /opt/conda/lib/python3.7/site-packages (from botocore>=1.12.91->s3fs) (0.10.0)\n",
      "Requirement already satisfied: six>=1.5 in /opt/conda/lib/python3.7/site-packages (from python-dateutil<3.0.0,>=2.1->botocore>=1.12.91->s3fs) (1.14.0)\n",
      "Installing collected packages: s3fs\n",
      "Successfully installed s3fs-0.4.2\n"
     ]
    }
   ],
   "source": [
    "!pip install s3fs"
   ]
  },
  {
   "cell_type": "code",
   "execution_count": 61,
   "metadata": {},
   "outputs": [
    {
     "name": "stdout",
     "output_type": "stream",
     "text": [
      "['day_of_week', 'day_of_year', 'pickup_date', 'hour', 'minute', 'trip_count', 'trip_duration_min', 'passenger_count', 'trip_distance', 'pickup_locationid', 'pickup_zone', 'pickup_borough', 'total_amount', 'fare_amount', 'is_fog', 'is_rain', 'is_snow', 'tmax', 'tmin', 'prcp']\n"
     ]
    }
   ],
   "source": [
    "cols=list(df_all.columns.values)\n",
    "print(cols)"
   ]
  },
  {
   "cell_type": "code",
   "execution_count": 9,
   "metadata": {},
   "outputs": [],
   "source": [
    "df_all.drop(['pickup_date','trip_duration_min','passenger_count','trip_distance','pickup_zone','pickup_borough','total_amount','trip_count','is_rain','is_snow'],axis=1,inplace=True)\n"
   ]
  },
  {
   "cell_type": "code",
   "execution_count": 11,
   "metadata": {},
   "outputs": [],
   "source": [
    "df_all = df_all[['fare_amount', 'day_of_week', 'day_of_year', 'hour', 'minute',  'pickup_locationid',  'is_fog',  'tmax', 'tmin', 'prcp']]"
   ]
  },
  {
   "cell_type": "code",
   "execution_count": 12,
   "metadata": {},
   "outputs": [
    {
     "data": {
      "text/html": [
       "<div>\n",
       "<style scoped>\n",
       "    .dataframe tbody tr th:only-of-type {\n",
       "        vertical-align: middle;\n",
       "    }\n",
       "\n",
       "    .dataframe tbody tr th {\n",
       "        vertical-align: top;\n",
       "    }\n",
       "\n",
       "    .dataframe thead th {\n",
       "        text-align: right;\n",
       "    }\n",
       "</style>\n",
       "<table border=\"1\" class=\"dataframe\">\n",
       "  <thead>\n",
       "    <tr style=\"text-align: right;\">\n",
       "      <th></th>\n",
       "      <th>fare_amount</th>\n",
       "      <th>day_of_week</th>\n",
       "      <th>day_of_year</th>\n",
       "      <th>hour</th>\n",
       "      <th>minute</th>\n",
       "      <th>pickup_locationid</th>\n",
       "      <th>is_fog</th>\n",
       "      <th>tmax</th>\n",
       "      <th>tmin</th>\n",
       "      <th>prcp</th>\n",
       "    </tr>\n",
       "  </thead>\n",
       "  <tbody>\n",
       "    <tr>\n",
       "      <th>10546879</th>\n",
       "      <td>18.5</td>\n",
       "      <td>2</td>\n",
       "      <td>148</td>\n",
       "      <td>10</td>\n",
       "      <td>0</td>\n",
       "      <td>261</td>\n",
       "      <td>1</td>\n",
       "      <td>71</td>\n",
       "      <td>62</td>\n",
       "      <td>0.19</td>\n",
       "    </tr>\n",
       "    <tr>\n",
       "      <th>7897851</th>\n",
       "      <td>120.0</td>\n",
       "      <td>3</td>\n",
       "      <td>65</td>\n",
       "      <td>19</td>\n",
       "      <td>40</td>\n",
       "      <td>90</td>\n",
       "      <td>0</td>\n",
       "      <td>27</td>\n",
       "      <td>19</td>\n",
       "      <td>0.00</td>\n",
       "    </tr>\n",
       "    <tr>\n",
       "      <th>6734145</th>\n",
       "      <td>161.5</td>\n",
       "      <td>4</td>\n",
       "      <td>150</td>\n",
       "      <td>22</td>\n",
       "      <td>30</td>\n",
       "      <td>148</td>\n",
       "      <td>1</td>\n",
       "      <td>68</td>\n",
       "      <td>56</td>\n",
       "      <td>0.80</td>\n",
       "    </tr>\n",
       "    <tr>\n",
       "      <th>980250</th>\n",
       "      <td>115.5</td>\n",
       "      <td>5</td>\n",
       "      <td>137</td>\n",
       "      <td>23</td>\n",
       "      <td>30</td>\n",
       "      <td>48</td>\n",
       "      <td>0</td>\n",
       "      <td>78</td>\n",
       "      <td>63</td>\n",
       "      <td>0.03</td>\n",
       "    </tr>\n",
       "    <tr>\n",
       "      <th>9330945</th>\n",
       "      <td>3.0</td>\n",
       "      <td>3</td>\n",
       "      <td>86</td>\n",
       "      <td>21</td>\n",
       "      <td>0</td>\n",
       "      <td>163</td>\n",
       "      <td>0</td>\n",
       "      <td>44</td>\n",
       "      <td>34</td>\n",
       "      <td>0.00</td>\n",
       "    </tr>\n",
       "    <tr>\n",
       "      <th>...</th>\n",
       "      <td>...</td>\n",
       "      <td>...</td>\n",
       "      <td>...</td>\n",
       "      <td>...</td>\n",
       "      <td>...</td>\n",
       "      <td>...</td>\n",
       "      <td>...</td>\n",
       "      <td>...</td>\n",
       "      <td>...</td>\n",
       "      <td>...</td>\n",
       "    </tr>\n",
       "    <tr>\n",
       "      <th>11487173</th>\n",
       "      <td>8.0</td>\n",
       "      <td>4</td>\n",
       "      <td>227</td>\n",
       "      <td>3</td>\n",
       "      <td>0</td>\n",
       "      <td>107</td>\n",
       "      <td>0</td>\n",
       "      <td>85</td>\n",
       "      <td>72</td>\n",
       "      <td>0.00</td>\n",
       "    </tr>\n",
       "    <tr>\n",
       "      <th>9405950</th>\n",
       "      <td>5.5</td>\n",
       "      <td>4</td>\n",
       "      <td>157</td>\n",
       "      <td>10</td>\n",
       "      <td>10</td>\n",
       "      <td>13</td>\n",
       "      <td>1</td>\n",
       "      <td>83</td>\n",
       "      <td>71</td>\n",
       "      <td>0.05</td>\n",
       "    </tr>\n",
       "    <tr>\n",
       "      <th>1588759</th>\n",
       "      <td>33.0</td>\n",
       "      <td>4</td>\n",
       "      <td>122</td>\n",
       "      <td>8</td>\n",
       "      <td>10</td>\n",
       "      <td>4</td>\n",
       "      <td>1</td>\n",
       "      <td>71</td>\n",
       "      <td>47</td>\n",
       "      <td>0.00</td>\n",
       "    </tr>\n",
       "    <tr>\n",
       "      <th>8228807</th>\n",
       "      <td>21.0</td>\n",
       "      <td>7</td>\n",
       "      <td>132</td>\n",
       "      <td>11</td>\n",
       "      <td>30</td>\n",
       "      <td>75</td>\n",
       "      <td>1</td>\n",
       "      <td>59</td>\n",
       "      <td>44</td>\n",
       "      <td>1.22</td>\n",
       "    </tr>\n",
       "    <tr>\n",
       "      <th>1072275</th>\n",
       "      <td>265.5</td>\n",
       "      <td>3</td>\n",
       "      <td>219</td>\n",
       "      <td>7</td>\n",
       "      <td>0</td>\n",
       "      <td>107</td>\n",
       "      <td>1</td>\n",
       "      <td>87</td>\n",
       "      <td>70</td>\n",
       "      <td>0.62</td>\n",
       "    </tr>\n",
       "  </tbody>\n",
       "</table>\n",
       "<p>100 rows × 10 columns</p>\n",
       "</div>"
      ],
      "text/plain": [
       "          fare_amount  day_of_week  day_of_year  hour  minute  \\\n",
       "10546879         18.5            2          148    10       0   \n",
       "7897851         120.0            3           65    19      40   \n",
       "6734145         161.5            4          150    22      30   \n",
       "980250          115.5            5          137    23      30   \n",
       "9330945           3.0            3           86    21       0   \n",
       "...               ...          ...          ...   ...     ...   \n",
       "11487173          8.0            4          227     3       0   \n",
       "9405950           5.5            4          157    10      10   \n",
       "1588759          33.0            4          122     8      10   \n",
       "8228807          21.0            7          132    11      30   \n",
       "1072275         265.5            3          219     7       0   \n",
       "\n",
       "          pickup_locationid  is_fog  tmax  tmin  prcp  \n",
       "10546879                261       1    71    62  0.19  \n",
       "7897851                  90       0    27    19  0.00  \n",
       "6734145                 148       1    68    56  0.80  \n",
       "980250                   48       0    78    63  0.03  \n",
       "9330945                 163       0    44    34  0.00  \n",
       "...                     ...     ...   ...   ...   ...  \n",
       "11487173                107       0    85    72  0.00  \n",
       "9405950                  13       1    83    71  0.05  \n",
       "1588759                   4       1    71    47  0.00  \n",
       "8228807                  75       1    59    44  1.22  \n",
       "1072275                 107       1    87    70  0.62  \n",
       "\n",
       "[100 rows x 10 columns]"
      ]
     },
     "execution_count": 12,
     "metadata": {},
     "output_type": "execute_result"
    }
   ],
   "source": [
    "df_small = df_all.sample(int(1e2))\n",
    "df_small"
   ]
  },
  {
   "cell_type": "code",
   "execution_count": 13,
   "metadata": {},
   "outputs": [
    {
     "data": {
      "text/html": [
       "<div>\n",
       "<style scoped>\n",
       "    .dataframe tbody tr th:only-of-type {\n",
       "        vertical-align: middle;\n",
       "    }\n",
       "\n",
       "    .dataframe tbody tr th {\n",
       "        vertical-align: top;\n",
       "    }\n",
       "\n",
       "    .dataframe thead th {\n",
       "        text-align: right;\n",
       "    }\n",
       "</style>\n",
       "<table border=\"1\" class=\"dataframe\">\n",
       "  <thead>\n",
       "    <tr style=\"text-align: right;\">\n",
       "      <th></th>\n",
       "      <th>fare_amount</th>\n",
       "      <th>day_of_week</th>\n",
       "      <th>day_of_year</th>\n",
       "      <th>hour</th>\n",
       "      <th>minute</th>\n",
       "      <th>pickup_locationid</th>\n",
       "      <th>is_fog</th>\n",
       "      <th>tmax</th>\n",
       "      <th>tmin</th>\n",
       "      <th>prcp</th>\n",
       "    </tr>\n",
       "  </thead>\n",
       "  <tbody>\n",
       "    <tr>\n",
       "      <th>count</th>\n",
       "      <td>1.213806e+07</td>\n",
       "      <td>1.213806e+07</td>\n",
       "      <td>1.213806e+07</td>\n",
       "      <td>1.213806e+07</td>\n",
       "      <td>1.213806e+07</td>\n",
       "      <td>1.213806e+07</td>\n",
       "      <td>1.213806e+07</td>\n",
       "      <td>1.213806e+07</td>\n",
       "      <td>1.213806e+07</td>\n",
       "      <td>1.213806e+07</td>\n",
       "    </tr>\n",
       "    <tr>\n",
       "      <th>mean</th>\n",
       "      <td>9.038184e+01</td>\n",
       "      <td>4.056473e+00</td>\n",
       "      <td>1.776289e+02</td>\n",
       "      <td>1.247012e+01</td>\n",
       "      <td>2.498167e+01</td>\n",
       "      <td>1.504552e+02</td>\n",
       "      <td>3.249350e-01</td>\n",
       "      <td>6.281552e+01</td>\n",
       "      <td>4.911028e+01</td>\n",
       "      <td>1.385896e-01</td>\n",
       "    </tr>\n",
       "    <tr>\n",
       "      <th>std</th>\n",
       "      <td>3.323237e+02</td>\n",
       "      <td>1.989206e+00</td>\n",
       "      <td>1.054075e+02</td>\n",
       "      <td>6.626911e+00</td>\n",
       "      <td>1.708988e+01</td>\n",
       "      <td>7.319390e+01</td>\n",
       "      <td>4.683506e-01</td>\n",
       "      <td>1.880070e+01</td>\n",
       "      <td>1.714468e+01</td>\n",
       "      <td>3.186654e-01</td>\n",
       "    </tr>\n",
       "    <tr>\n",
       "      <th>min</th>\n",
       "      <td>0.000000e+00</td>\n",
       "      <td>1.000000e+00</td>\n",
       "      <td>1.000000e+00</td>\n",
       "      <td>0.000000e+00</td>\n",
       "      <td>0.000000e+00</td>\n",
       "      <td>1.000000e+00</td>\n",
       "      <td>0.000000e+00</td>\n",
       "      <td>1.600000e+01</td>\n",
       "      <td>3.000000e+00</td>\n",
       "      <td>0.000000e+00</td>\n",
       "    </tr>\n",
       "    <tr>\n",
       "      <th>25%</th>\n",
       "      <td>1.550000e+01</td>\n",
       "      <td>2.000000e+00</td>\n",
       "      <td>8.600000e+01</td>\n",
       "      <td>7.000000e+00</td>\n",
       "      <td>1.000000e+01</td>\n",
       "      <td>9.000000e+01</td>\n",
       "      <td>0.000000e+00</td>\n",
       "      <td>4.600000e+01</td>\n",
       "      <td>3.500000e+01</td>\n",
       "      <td>0.000000e+00</td>\n",
       "    </tr>\n",
       "    <tr>\n",
       "      <th>50%</th>\n",
       "      <td>4.100000e+01</td>\n",
       "      <td>4.000000e+00</td>\n",
       "      <td>1.740000e+02</td>\n",
       "      <td>1.300000e+01</td>\n",
       "      <td>2.000000e+01</td>\n",
       "      <td>1.470000e+02</td>\n",
       "      <td>0.000000e+00</td>\n",
       "      <td>6.300000e+01</td>\n",
       "      <td>4.900000e+01</td>\n",
       "      <td>0.000000e+00</td>\n",
       "    </tr>\n",
       "    <tr>\n",
       "      <th>75%</th>\n",
       "      <td>1.030000e+02</td>\n",
       "      <td>6.000000e+00</td>\n",
       "      <td>2.690000e+02</td>\n",
       "      <td>1.800000e+01</td>\n",
       "      <td>4.000000e+01</td>\n",
       "      <td>2.300000e+02</td>\n",
       "      <td>1.000000e+00</td>\n",
       "      <td>7.900000e+01</td>\n",
       "      <td>6.400000e+01</td>\n",
       "      <td>8.000000e-02</td>\n",
       "    </tr>\n",
       "    <tr>\n",
       "      <th>max</th>\n",
       "      <td>6.711231e+05</td>\n",
       "      <td>7.000000e+00</td>\n",
       "      <td>3.650000e+02</td>\n",
       "      <td>2.300000e+01</td>\n",
       "      <td>5.000000e+01</td>\n",
       "      <td>2.650000e+02</td>\n",
       "      <td>1.000000e+00</td>\n",
       "      <td>1.000000e+02</td>\n",
       "      <td>8.300000e+01</td>\n",
       "      <td>2.670000e+00</td>\n",
       "    </tr>\n",
       "  </tbody>\n",
       "</table>\n",
       "</div>"
      ],
      "text/plain": [
       "        fare_amount   day_of_week   day_of_year          hour        minute  \\\n",
       "count  1.213806e+07  1.213806e+07  1.213806e+07  1.213806e+07  1.213806e+07   \n",
       "mean   9.038184e+01  4.056473e+00  1.776289e+02  1.247012e+01  2.498167e+01   \n",
       "std    3.323237e+02  1.989206e+00  1.054075e+02  6.626911e+00  1.708988e+01   \n",
       "min    0.000000e+00  1.000000e+00  1.000000e+00  0.000000e+00  0.000000e+00   \n",
       "25%    1.550000e+01  2.000000e+00  8.600000e+01  7.000000e+00  1.000000e+01   \n",
       "50%    4.100000e+01  4.000000e+00  1.740000e+02  1.300000e+01  2.000000e+01   \n",
       "75%    1.030000e+02  6.000000e+00  2.690000e+02  1.800000e+01  4.000000e+01   \n",
       "max    6.711231e+05  7.000000e+00  3.650000e+02  2.300000e+01  5.000000e+01   \n",
       "\n",
       "       pickup_locationid        is_fog          tmax          tmin  \\\n",
       "count       1.213806e+07  1.213806e+07  1.213806e+07  1.213806e+07   \n",
       "mean        1.504552e+02  3.249350e-01  6.281552e+01  4.911028e+01   \n",
       "std         7.319390e+01  4.683506e-01  1.880070e+01  1.714468e+01   \n",
       "min         1.000000e+00  0.000000e+00  1.600000e+01  3.000000e+00   \n",
       "25%         9.000000e+01  0.000000e+00  4.600000e+01  3.500000e+01   \n",
       "50%         1.470000e+02  0.000000e+00  6.300000e+01  4.900000e+01   \n",
       "75%         2.300000e+02  1.000000e+00  7.900000e+01  6.400000e+01   \n",
       "max         2.650000e+02  1.000000e+00  1.000000e+02  8.300000e+01   \n",
       "\n",
       "               prcp  \n",
       "count  1.213806e+07  \n",
       "mean   1.385896e-01  \n",
       "std    3.186654e-01  \n",
       "min    0.000000e+00  \n",
       "25%    0.000000e+00  \n",
       "50%    0.000000e+00  \n",
       "75%    8.000000e-02  \n",
       "max    2.670000e+00  "
      ]
     },
     "execution_count": 13,
     "metadata": {},
     "output_type": "execute_result"
    }
   ],
   "source": [
    "df_all.describe()"
   ]
  },
  {
   "cell_type": "code",
   "execution_count": 14,
   "metadata": {},
   "outputs": [],
   "source": [
    "import numpy as np\n",
    "import matplotlib.pyplot as plt\n",
    "import seaborn as sns\n",
    "\n",
    "plt.style.use('seaborn-whitegrid')\n",
    "%matplotlib inline"
   ]
  },
  {
   "cell_type": "code",
   "execution_count": 16,
   "metadata": {},
   "outputs": [
    {
     "data": {
      "image/png": "[encoded data removed]",
      "text/plain": [
       "<Figure size 1440x864 with 2 Axes>"
      ]
     },
     "metadata": {
      "needs_background": "light"
     },
     "output_type": "display_data"
    }
   ],
   "source": [
    "\n",
    "time_features = ['day_of_week', 'hour']\n",
    "\n",
    "fig = plt.figure(figsize=(20,12))\n",
    "fig.subplots_adjust(hspace=0.4, wspace=0.4)\n",
    "\n",
    "for i in range(len(time_features)):\n",
    "    ax = fig.add_subplot(2, 1, i+1)\n",
    "    sns.boxplot(x=time_features[i], y=\"fare_amount\", data=df_all[df_all['day_of_year'] >= 0], showfliers=False)\n",
    "\n",
    "plt.show()"
   ]
  },
  {
   "cell_type": "code",
   "execution_count": null,
   "metadata": {},
   "outputs": [],
   "source": []
  },
  {
   "cell_type": "code",
   "execution_count": 17,
   "metadata": {},
   "outputs": [],
   "source": [
    "from sklearn.model_selection import train_test_split\n",
    "\n",
    "train_v, test_v = train_test_split(df_all, test_size=0.2)"
   ]
  },
  {
   "cell_type": "code",
   "execution_count": 30,
   "metadata": {},
   "outputs": [
    {
     "data": {
      "text/plain": [
       "(0, 20)"
      ]
     },
     "execution_count": 30,
     "metadata": {},
     "output_type": "execute_result"
    }
   ],
   "source": [
    "df_all.shape"
   ]
  },
  {
   "cell_type": "code",
   "execution_count": 22,
   "metadata": {},
   "outputs": [
    {
     "data": {
      "text/plain": [
       "(9710450, 10)"
      ]
     },
     "execution_count": 22,
     "metadata": {},
     "output_type": "execute_result"
    }
   ],
   "source": [
    "train_v.shape"
   ]
  },
  {
   "cell_type": "code",
   "execution_count": 18,
   "metadata": {},
   "outputs": [],
   "source": [
    "from sagemaker.amazon.amazon_estimator import get_image_uri\n",
    "import sagemaker\n",
    "from sagemaker import get_execution_role\n",
    "import boto3\n",
    "from datetime import datetime\n",
    "import os\n",
    "import pandas as pd\n",
    "import random\n",
    "import numpy as np\n",
    "import matplotlib.pyplot as plt \n",
    "import seaborn as sns"
   ]
  },
  {
   "cell_type": "code",
   "execution_count": 19,
   "metadata": {},
   "outputs": [],
   "source": [
    "#train = train_v.copy()\n",
    "#test = test_v.copy()\n",
    "\n",
    "train_v.to_csv('train_small.csv', header=False, index=False)\n",
    "test_v.to_csv('validate_small.csv', header=False, index=False)\n"
   ]
  },
  {
   "cell_type": "code",
   "execution_count": 20,
   "metadata": {},
   "outputs": [
    {
     "name": "stdout",
     "output_type": "stream",
     "text": [
      "upload: ./train_small.csv to s3://trip-ny-test/train/train/train_small.csv\n",
      "upload: ./validate_small.csv to s3://trip-ny-test/train/validate/validate_small.csv\n"
     ]
    }
   ],
   "source": [
    "!aws s3 cp train_small.csv s3://trip-ny-test/train/train/train_small.csv\n",
    "!aws s3 cp validate_small.csv s3://trip-ny-test/train/validate/validate_small.csv"
   ]
  },
  {
   "cell_type": "code",
   "execution_count": 42,
   "metadata": {},
   "outputs": [
    {
     "name": "stdout",
     "output_type": "stream",
     "text": [
      "upload: ./validate_small.csv to s3://trip-ny-test/train/validate/validate_small.csv\n"
     ]
    }
   ],
   "source": [
    "!aws s3 cp validate_small.csv s3://trip-ny-test/train/validate/validate_small.csv"
   ]
  },
  {
   "cell_type": "code",
   "execution_count": 23,
   "metadata": {},
   "outputs": [],
   "source": [
    "path_train = os.path.join('train','train')\n",
    "path_val = os.path.join('train','validate')\n",
    "bucket = 'trip-ny-test'"
   ]
  },
  {
   "cell_type": "code",
   "execution_count": 24,
   "metadata": {},
   "outputs": [
    {
     "name": "stderr",
     "output_type": "stream",
     "text": [
      "'get_image_uri' method will be deprecated in favor of 'ImageURIProvider' class in SageMaker Python SDK v2.\n"
     ]
    },
    {
     "data": {
      "text/plain": [
       "'s3://trip-ny-test/train/train'"
      ]
     },
     "execution_count": 24,
     "metadata": {},
     "output_type": "execute_result"
    }
   ],
   "source": [
    "container = get_image_uri(boto3.Session().region_name, 'xgboost', '1.0-1')\n",
    "'s3://{}/{}'.format(bucket, path_train)"
   ]
  },
  {
   "cell_type": "code",
   "execution_count": 25,
   "metadata": {},
   "outputs": [
    {
     "name": "stderr",
     "output_type": "stream",
     "text": [
      "'s3_input' class will be renamed to 'TrainingInput' in SageMaker Python SDK v2.\n",
      "'s3_input' class will be renamed to 'TrainingInput' in SageMaker Python SDK v2.\n"
     ]
    }
   ],
   "source": [
    "s3_input_trains3_inpu  = sagemaker.s3_input(s3_data='s3://{}/{}'.format(bucket, path_train),\n",
    "                                            content_type='csv',\n",
    "                                            distribution='ShardedByS3Key')\n",
    "s3_input_validation = sagemaker.s3_input(s3_data='s3://{}/{}'.format(bucket, path_val),\n",
    "                                         content_type='csv', \n",
    "                                         distribution='ShardedByS3Key')"
   ]
  },
  {
   "cell_type": "code",
   "execution_count": 26,
   "metadata": {},
   "outputs": [],
   "source": [
    "sess = sagemaker.Session()\n",
    "role = get_execution_role()"
   ]
  },
  {
   "cell_type": "code",
   "execution_count": 27,
   "metadata": {},
   "outputs": [],
   "source": [
    "training_job_path = os.path.join('training_jobs', datetime.now().strftime('%Y-%m-%d-%H-%M-%S'))"
   ]
  },
  {
   "cell_type": "code",
   "execution_count": 28,
   "metadata": {},
   "outputs": [
    {
     "name": "stderr",
     "output_type": "stream",
     "text": [
      "WARNING:root:Parameter image_name will be renamed to image_uri in SageMaker Python SDK v2.\n"
     ]
    }
   ],
   "source": [
    "xgb = sagemaker.estimator.Estimator(container,\n",
    "                                    role, \n",
    "                                    train_instance_count=1, \n",
    "                                    train_instance_type='ml.m5.xlarge',\n",
    "                                    output_path='s3://{}/{}/output'.format(bucket,training_job_path),\n",
    "                                    sagemaker_session=sess)"
   ]
  },
  {
   "cell_type": "code",
   "execution_count": 29,
   "metadata": {},
   "outputs": [
    {
     "data": {
      "text/plain": [
       "'s3://trip-ny-test/training_jobs/2020-06-08-13-12-18/output'"
      ]
     },
     "execution_count": 29,
     "metadata": {},
     "output_type": "execute_result"
    }
   ],
   "source": [
    "'s3://{}/{}/output'.format(bucket,training_job_path)"
   ]
  },
  {
   "cell_type": "code",
   "execution_count": 30,
   "metadata": {},
   "outputs": [],
   "source": [
    "xgb.set_hyperparameters(max_depth=9,\n",
    "                        eta=0.2,\n",
    "                        gamma=4,\n",
    "                        min_child_weight=300,\n",
    "                        subsample=0.8,\n",
    "                        silent=0,\n",
    "                        objective='reg:linear',\n",
    "                        early_stopping_rounds=10,\n",
    "                        num_round=10000)"
   ]
  },
  {
   "cell_type": "code",
   "execution_count": null,
   "metadata": {},
   "outputs": [
    {
     "name": "stdout",
     "output_type": "stream",
     "text": [
      "2020-06-08 13:13:23 Starting - Starting the training job...\n",
      "2020-06-08 13:13:26 Starting - Launching requested ML instances......\n",
      "2020-06-08 13:14:39 Starting - Preparing the instances for training...\n",
      "2020-06-08 13:15:13 Downloading - Downloading input data...\n",
      "2020-06-08 13:15:40 Training - Downloading the training image.\u001b[34mINFO:sagemaker-containers:Imported framework sagemaker_xgboost_container.training\u001b[0m\n",
      "\u001b[34mINFO:sagemaker-containers:Failed to parse hyperparameter objective value reg:linear to Json.\u001b[0m\n",
      "\u001b[34mReturning the value itself\u001b[0m\n",
      "\u001b[34mINFO:sagemaker-containers:No GPUs detected (normal if no gpus installed)\u001b[0m\n",
      "\u001b[34mINFO:sagemaker_xgboost_container.training:Running XGBoost Sagemaker in algorithm mode\u001b[0m\n",
      "\u001b[34mINFO:root:Determined delimiter of CSV input is ','\u001b[0m\n",
      "\u001b[34mINFO:root:Determined delimiter of CSV input is ','\u001b[0m\n",
      "\u001b[34mINFO:root:Determined delimiter of CSV input is ','\u001b[0m\n",
      "\u001b[34m[13:16:00] 9710450x9 matrix with 87394050 entries loaded from /opt/ml/input/data/train?format=csv&label_column=0&delimiter=,\u001b[0m\n",
      "\u001b[34mINFO:root:Determined delimiter of CSV input is ','\u001b[0m\n",
      "\u001b[34m[13:16:01] 2427613x9 matrix with 21848517 entries loaded from /opt/ml/input/data/validation?format=csv&label_column=0&delimiter=,\u001b[0m\n",
      "\u001b[34mINFO:root:Single node training.\u001b[0m\n",
      "\u001b[34mINFO:root:Train matrix has 9710450 rows\u001b[0m\n",
      "\u001b[34mINFO:root:Validation matrix has 2427613 rows\u001b[0m\n",
      "\u001b[34m[13:16:01] WARNING: /workspace/src/objective/regression_obj.cu:167: reg:linear is now deprecated in favor of reg:squarederror.\u001b[0m\n",
      "\u001b[34m[13:16:01] WARNING: /workspace/src/learner.cc:328: \u001b[0m\n",
      "\u001b[34mParameters: { early_stopping_rounds, num_round, silent } might not be used.\n",
      "\n",
      "  This may not be accurate due to some parameters are only used in language bindings but\n",
      "  passed down to XGBoost core.  Or some parameters are not used but slip through this\n",
      "  verification. Please open an issue if you find above cases.\n",
      "\n",
      "\u001b[0m\n",
      "\u001b[34m[13:16:02] WARNING: /workspace/src/gbm/gbtree.cc:138: Tree method is automatically selected to be 'approx' for faster speed. To use old behavior (exact greedy algorithm on single machine), set tree_method to 'exact'.\u001b[0m\n",
      "\n",
      "2020-06-08 13:15:54 Training - Training image download completed. Training in progress.\u001b[34m[0]#011train-rmse:265.65845#011validation-rmse:529.44122\u001b[0m\n",
      "\u001b[34m[1]#011train-rmse:258.60492#011validation-rmse:525.89044\u001b[0m\n",
      "\u001b[34m[2]#011train-rmse:253.89739#011validation-rmse:523.55072\u001b[0m\n"
     ]
    }
   ],
   "source": [
    "xgb.fit({'train': s3_input_trains3_inpu, 'validation': s3_input_validation})"
   ]
  },
  {
   "cell_type": "code",
   "execution_count": null,
   "metadata": {},
   "outputs": [],
   "source": [
    "xgb_predictor = xgb.deploy(initial_instance_count=1, instance_type='ml.m4.xlarge')"
   ]
  },
  {
   "cell_type": "code",
   "execution_count": 56,
   "metadata": {},
   "outputs": [],
   "source": [
    "from sagemaker.predictor import csv_serializer"
   ]
  },
  {
   "cell_type": "code",
   "execution_count": 57,
   "metadata": {},
   "outputs": [],
   "source": [
    "df_test = pd.read_csv('./validate_small.csv', header=None)"
   ]
  },
  {
   "cell_type": "code",
   "execution_count": 59,
   "metadata": {},
   "outputs": [
    {
     "ename": "TypeError",
     "evalue": "'numpy.ndarray' object is not callable",
     "output_type": "error",
     "traceback": [
      "\u001b[0;31m---------------------------------------------------------------------------\u001b[0m",
      "\u001b[0;31mTypeError\u001b[0m                                 Traceback (most recent call last)",
      "\u001b[0;32m<ipython-input-59-bbb0c17395e0>\u001b[0m in \u001b[0;36m<module>\u001b[0;34m\u001b[0m\n\u001b[1;32m     11\u001b[0m     \u001b[0;32mreturn\u001b[0m \u001b[0mnp\u001b[0m\u001b[0;34m.\u001b[0m\u001b[0mfromstring\u001b[0m\u001b[0;34m(\u001b[0m\u001b[0mpredictions\u001b[0m\u001b[0;34m[\u001b[0m\u001b[0;36m1\u001b[0m\u001b[0;34m:\u001b[0m\u001b[0;34m]\u001b[0m\u001b[0;34m,\u001b[0m \u001b[0msep\u001b[0m\u001b[0;34m=\u001b[0m\u001b[0;34m','\u001b[0m\u001b[0;34m)\u001b[0m\u001b[0;34m\u001b[0m\u001b[0;34m\u001b[0m\u001b[0m\n\u001b[1;32m     12\u001b[0m \u001b[0;34m\u001b[0m\u001b[0m\n\u001b[0;32m---> 13\u001b[0;31m \u001b[0mpredictions\u001b[0m \u001b[0;34m=\u001b[0m \u001b[0mpredict\u001b[0m\u001b[0;34m(\u001b[0m\u001b[0mdf_test\u001b[0m\u001b[0;34m.\u001b[0m\u001b[0mvalues\u001b[0m\u001b[0;34m(\u001b[0m\u001b[0;34m)\u001b[0m\u001b[0;34m[\u001b[0m\u001b[0;34m:\u001b[0m\u001b[0;34m,\u001b[0m \u001b[0;36m1\u001b[0m\u001b[0;34m:\u001b[0m\u001b[0;34m]\u001b[0m\u001b[0;34m)\u001b[0m\u001b[0;34m\u001b[0m\u001b[0;34m\u001b[0m\u001b[0m\n\u001b[0m\u001b[1;32m     14\u001b[0m \u001b[0mpredictions\u001b[0m\u001b[0;34m\u001b[0m\u001b[0;34m\u001b[0m\u001b[0m\n",
      "\u001b[0;31mTypeError\u001b[0m: 'numpy.ndarray' object is not callable"
     ]
    }
   ],
   "source": [
    "xgb_predictor.content_type = 'text/csv'\n",
    "xgb_predictor.serializer = csv_serializer\n",
    "xgb_predictor.deserializer = None\n",
    "\n",
    "def predict(data, rows=500):\n",
    "    split_array = np.array_split(data, int(data.shape[0] / float(rows) + 1))\n",
    "    predictions = ''\n",
    "    for array in split_array:\n",
    "        predictions = ','.join([predictions, xgb_predictor.predict(array).decode('utf-8')])\n",
    "\n",
    "    return np.fromstring(predictions[1:], sep=',')\n",
    "\n",
    "predictions = predict(df_test.values()[:, 1:])\n",
    "predictions"
   ]
  },
  {
   "cell_type": "code",
   "execution_count": null,
   "metadata": {},
   "outputs": [],
   "source": [
    "df_val = pd.DataFrame()\n",
    "df_val['prediction'] = predictions\n",
    "df_val['target'] = df_test[0]"
   ]
  },
  {
   "cell_type": "code",
   "execution_count": null,
   "metadata": {},
   "outputs": [],
   "source": [
    "plt.figure(figsize=(15,6))\n",
    "sns.regplot(x=df_val[\"target\"], y=df_val[\"prediction\"])\n",
    "plt.show()"
   ]
  },
  {
   "cell_type": "code",
   "execution_count": null,
   "metadata": {},
   "outputs": [],
   "source": [
    "df_val['err'] = (df_val[\"target\"] - df_val[\"prediction\"])\n",
    "df_val['err'].plot(kind='hist', bins=100, range=(-6,10), alpha=0.8, figsize=(15,6))\n",
    "plt.show()"
   ]
  },
  {
   "cell_type": "code",
   "execution_count": null,
   "metadata": {},
   "outputs": [],
   "source": [
    "df_val.describe()"
   ]
  },
  {
   "cell_type": "code",
   "execution_count": null,
   "metadata": {},
   "outputs": [],
   "source": [
    "df_sample = df_test.loc[0:199]\n",
    "feature_names = list(df_small.columns[1:])\n",
    "feature_names"
   ]
  },
  {
   "cell_type": "code",
   "execution_count": null,
   "metadata": {},
   "outputs": [],
   "source": [
    "df_sample.columns = feature_names\n",
    "df_sample = df_sample.iloc[:, 1:]\n",
    "explainer = shap.KernelExplainer(predict,df_sample.as_matrix())"
   ]
  },
  {
   "cell_type": "code",
   "execution_count": null,
   "metadata": {},
   "outputs": [],
   "source": [
    "shap_values = explainer.shap_values(df_sample.as_matrix(), nsamples=100)\n",
    "HBox(children=(FloatProgress(value=0.0, max=200.0), HTML(value='')))\n"
   ]
  },
  {
   "cell_type": "code",
   "execution_count": null,
   "metadata": {},
   "outputs": [],
   "source": [
    "shap_no_base = shap_values[:, :-1]\n",
    "shap_base_value = shap_values[0, -1]\n",
    "shap.summary_plot(shap_no_base, plot_type='bar', feature_names=feature_names[1:])\n"
   ]
  },
  {
   "cell_type": "code",
   "execution_count": null,
   "metadata": {},
   "outputs": [],
   "source": [
    "shap.summary_plot(shap_values, df_sample)"
   ]
  }
 ],
 "metadata": {
  "instance_type": "ml.g4dn.xlarge",
  "kernelspec": {
   "display_name": "Python 3 (Data Science)",
   "language": "python",
   "name": "python3__SAGEMAKER_INTERNAL__arn:aws:sagemaker:us-east-1:081325390199:image/datascience-1.0"
  },
  "language_info": {
   "codemirror_mode": {
    "name": "ipython",
    "version": 3
   },
   "file_extension": ".py",
   "mimetype": "text/x-python",
   "name": "python",
   "nbconvert_exporter": "python",
   "pygments_lexer": "ipython3",
   "version": "3.7.6"
  }
 },
 "nbformat": 4,
 "nbformat_minor": 4
}
